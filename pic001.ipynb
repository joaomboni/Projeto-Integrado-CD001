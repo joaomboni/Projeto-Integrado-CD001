{
 "cells": [
  {
   "cell_type": "code",
   "execution_count": 45,
   "metadata": {},
   "outputs": [],
   "source": [
    "import numpy as np"
   ]
  },
  {
   "cell_type": "code",
   "execution_count": 46,
   "metadata": {},
   "outputs": [],
   "source": [
    "total_alunos = 21\n",
    "\n",
    "lista_notas = []"
   ]
  },
  {
   "cell_type": "code",
   "execution_count": 47,
   "metadata": {},
   "outputs": [
    {
     "name": "stdout",
     "output_type": "stream",
     "text": [
      "Nota do aluno 1\n",
      "5\n",
      "Nota do aluno 2\n",
      "5\n",
      "None\n"
     ]
    }
   ],
   "source": [
    "def notas():\n",
    "    for i in range(total_alunos):\n",
    "        chamada_pergunta = int(input(\"Qual foi sua nota? \"))\n",
    "        print(\"Nota do aluno\", i + 1) \n",
    "        print(chamada_pergunta)\n",
    "        \n",
    "        lista_notas.append(chamada_pergunta)\n",
    "    return\n",
    "\n",
    "print(notas())"
   ]
  },
  {
   "cell_type": "code",
   "execution_count": 48,
   "metadata": {},
   "outputs": [],
   "source": [
    "media = np.mean(lista_notas)\n",
    "variancia = np.var(lista_notas)\n",
    "desvp = np.std(lista_notas)"
   ]
  },
  {
   "cell_type": "code",
   "execution_count": 49,
   "metadata": {},
   "outputs": [
    {
     "name": "stdout",
     "output_type": "stream",
     "text": [
      "A turma teve uma nota média de 5.00\n",
      "Varianca das notas de 0.00\n",
      "Desvio padrão: 0.00\n"
     ]
    }
   ],
   "source": [
    "print(f\"A turma teve uma nota média de {media:.2f}\")\n",
    "print(f\"Varianca das notas de {variancia:.2f}\")\n",
    "print(f\"Desvio padrão: {desvp:.2f}\")"
   ]
  },
  {
   "cell_type": "code",
   "execution_count": null,
   "metadata": {},
   "outputs": [],
   "source": []
  },
  {
   "cell_type": "code",
   "execution_count": null,
   "metadata": {},
   "outputs": [],
   "source": []
  }
 ],
 "metadata": {
  "interpreter": {
   "hash": "46b936ff1622c326d442b837a2b71fa5dbcf20e52e3a75b5ec5a0d8bfc7f438d"
  },
  "kernelspec": {
   "display_name": "Python 3.8.8 ('base')",
   "language": "python",
   "name": "python3"
  },
  "language_info": {
   "codemirror_mode": {
    "name": "ipython",
    "version": 3
   },
   "file_extension": ".py",
   "mimetype": "text/x-python",
   "name": "python",
   "nbconvert_exporter": "python",
   "pygments_lexer": "ipython3",
   "version": "3.8.8"
  },
  "orig_nbformat": 4
 },
 "nbformat": 4,
 "nbformat_minor": 2
}
